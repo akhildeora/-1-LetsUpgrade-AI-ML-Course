{
  "nbformat": 4,
  "nbformat_minor": 0,
  "metadata": {
    "colab": {
      "name": "Day3 Assignment Solution.ipynb",
      "provenance": [],
      "collapsed_sections": []
    },
    "kernelspec": {
      "name": "python3",
      "display_name": "Python 3"
    }
  },
  "cells": [
    {
      "cell_type": "markdown",
      "metadata": {
        "id": "KeUmcRhq_VbH",
        "colab_type": "text"
      },
      "source": [
        "### **Question 1:**\n",
        "**Write a program to subtract two complex numbers in Python.**"
      ]
    },
    {
      "cell_type": "code",
      "metadata": {
        "id": "Sg6Utwbv_HnS",
        "colab_type": "code",
        "colab": {
          "base_uri": "https://localhost:8080/",
          "height": 70
        },
        "outputId": "50b9330b-8609-467a-8bab-d5f2e3d08526"
      },
      "source": [
        "a = 3 + 14j #Complex No.1\n",
        "b = 4 - 3j #Complex No.2\n",
        "c = a - b #Subtraction of 2 complex numbers a & b\n",
        "\n",
        "print (\"Subtraction of 2 complex numbers\")\n",
        "print (\"c = b - a\")\n",
        "print (\"  =\",c)"
      ],
      "execution_count": null,
      "outputs": [
        {
          "output_type": "stream",
          "text": [
            "Subtraction of 2 complex numbers\n",
            "c = b - a\n",
            "  = (-1+17j)\n"
          ],
          "name": "stdout"
        }
      ]
    },
    {
      "cell_type": "markdown",
      "metadata": {
        "id": "4JQw5YheFCVm",
        "colab_type": "text"
      },
      "source": [
        "### **Question 2 :**\n",
        "**Write a program to find the fourth root of a number.**"
      ]
    },
    {
      "cell_type": "code",
      "metadata": {
        "id": "E96QZCh2_2wt",
        "colab_type": "code",
        "colab": {
          "base_uri": "https://localhost:8080/",
          "height": 52
        },
        "outputId": "73f8cd38-4cf4-4928-f38c-df541253c0b4"
      },
      "source": [
        "print (\"Let the number be assumed as 64 and represented by x\")\n",
        "\n",
        "x = 256\n",
        "y = x ** (1.0 / 4)\n",
        "print (\"Fourth root of number x is =\",y)"
      ],
      "execution_count": null,
      "outputs": [
        {
          "output_type": "stream",
          "text": [
            "Let the number be assumed as 64 and represented by x\n",
            "Fourth root of number x is = 4.0\n"
          ],
          "name": "stdout"
        }
      ]
    },
    {
      "cell_type": "markdown",
      "metadata": {
        "id": "Er5F6RJJLLUy",
        "colab_type": "text"
      },
      "source": [
        "### **Question 3:**\n",
        "**Write a program to swap two numbers in Python with the help of a temporary variable.**"
      ]
    },
    {
      "cell_type": "code",
      "metadata": {
        "id": "74vPgXTvHrYo",
        "colab_type": "code",
        "colab": {
          "base_uri": "https://localhost:8080/",
          "height": 122
        },
        "outputId": "c57d38d0-1bfb-49f0-f7a1-24b25e0f5526"
      },
      "source": [
        "# Python program to swap two variables\n",
        "\n",
        "x = input('Enter First Number: ')\n",
        "y = input('Enter Second Number: ')\n",
        "\n",
        "print(\"Value of x before swapping: \", x)\n",
        "print(\"Value of y before swapping: \", y)\n",
        "\n",
        "# swapping two numbers using temporary variable\n",
        "temp = x\n",
        "x = y\n",
        "y = temp\n",
        "\n",
        "print(\"Value of x after swapping: \", x)\n",
        "print(\"Value of y after swapping: \", y)"
      ],
      "execution_count": null,
      "outputs": [
        {
          "output_type": "stream",
          "text": [
            "Enter First Number: 96\n",
            "Enter Second Number: 63\n",
            "Value of x before swapping:  96\n",
            "Value of y before swapping:  63\n",
            "Value of x after swapping:  63\n",
            "Value of y after swapping:  96\n"
          ],
          "name": "stdout"
        }
      ]
    },
    {
      "cell_type": "markdown",
      "metadata": {
        "id": "Nk-zlZLWa-4s",
        "colab_type": "text"
      },
      "source": [
        "### **Question 4:**\n",
        "**Write a program to swap two numbers in Python without using a temporary variable.**"
      ]
    },
    {
      "cell_type": "code",
      "metadata": {
        "id": "5l3GNeyvamY-",
        "colab_type": "code",
        "colab": {
          "base_uri": "https://localhost:8080/",
          "height": 122
        },
        "outputId": "5bc1e064-6d27-44db-ba2a-15206372a3a3"
      },
      "source": [
        "# Python program to swap two variables\n",
        "\n",
        "x = input('Enter First Number: ')\n",
        "y = input('Enter Second Number: ')\n",
        "\n",
        "print(\"Value of num1 before swapping: \", x)\n",
        "print(\"Value of num2 before swapping: \", y)\n",
        "\n",
        "# swapping two numbers without using temporary variable\n",
        "x, y = y, x\n",
        "\n",
        "print(\"Value of num1 after swapping: \", x)\n",
        "print(\"Value of num2 after swapping: \", y)"
      ],
      "execution_count": null,
      "outputs": [
        {
          "output_type": "stream",
          "text": [
            "Enter First Number: 96\n",
            "Enter Second Number: 63\n",
            "Value of num1 before swapping:  96\n",
            "Value of num2 before swapping:  63\n",
            "Value of num1 after swapping:  63\n",
            "Value of num2 after swapping:  96\n"
          ],
          "name": "stdout"
        }
      ]
    },
    {
      "cell_type": "markdown",
      "metadata": {
        "id": "seFCAWOQbfE4",
        "colab_type": "text"
      },
      "source": [
        "### **Question 5:**\n",
        "**Write a program to convert Fahrenheit to kelvin and celsius both.**"
      ]
    },
    {
      "cell_type": "code",
      "metadata": {
        "id": "_kQhdY1lbSFR",
        "colab_type": "code",
        "colab": {
          "base_uri": "https://localhost:8080/",
          "height": 70
        },
        "outputId": "8d7f9955-681b-4a9e-b713-a58aa616dab8"
      },
      "source": [
        "# Fahrenheit = (Celsius * 9/5) + 32\n",
        "\n",
        "fahrenheit = float(input(\"Enter temperature in fahrenheit: \"))\n",
        "celsius = (fahrenheit - 32) * 5/9\n",
        "kelvin = (5/9 * (fahrenheit - 32)) + 273\n",
        "print('%.2f Fahrenheit is: %0.2f Celsius' %(fahrenheit, celsius))\n",
        "print('%.2f Fahrenheit is: %0.2f Kelvin' %(fahrenheit, kelvin))"
      ],
      "execution_count": null,
      "outputs": [
        {
          "output_type": "stream",
          "text": [
            "Enter temperature in fahrenheit: 220\n",
            "220.00 Fahrenheit is: 104.44 Celsius\n",
            "220.00 Fahrenheit is: 377.44 Kelvin\n"
          ],
          "name": "stdout"
        }
      ]
    },
    {
      "cell_type": "markdown",
      "metadata": {
        "id": "PV3C5qo1fvW_",
        "colab_type": "text"
      },
      "source": [
        "### **Question 6:**\n",
        "**Write a program to demonstrate all the available data types in Python. Hint: Use type() function.**"
      ]
    },
    {
      "cell_type": "markdown",
      "metadata": {
        "id": "ozVGEOyUqAzx",
        "colab_type": "text"
      },
      "source": [
        "**Ans.**\n",
        "Types of Data Types in Python\n",
        "\n",
        "1.   Numbers\n",
        "    * Integer\n",
        "    * Complex No.\n",
        "    * Float\n",
        "2.   Dictionary\n",
        "3.   Boolean\n",
        "4.   Set\n",
        "5.   Sequence Type\n",
        "    * Strings\n",
        "    * List\n",
        "    * Tuple\n",
        "\n"
      ]
    },
    {
      "cell_type": "code",
      "metadata": {
        "id": "O0MQgm1Gb9wu",
        "colab_type": "code",
        "colab": {
          "base_uri": "https://localhost:8080/",
          "height": 175
        },
        "outputId": "c32910c9-a50f-4cac-b11d-b5ac4fd229f1"
      },
      "source": [
        "# Integer\n",
        "a = 9369\n",
        "print (\"1) 9369 is\",type(a),\"data type\")\n",
        "\n",
        "# Complex No.\n",
        "b = 9 + 6j\n",
        "print (\"2) 9 + 6j is\",type(b),\"data type\")\n",
        "\n",
        "# Float\n",
        "c = 936.96\n",
        "print (\"3) 936.96 is\",type(c),\"data type\")\n",
        "\n",
        "# Dictionary\n",
        "d = {\"name\" : \"Akhil\", \"age\" : 19, \"gender\" : \"male\"}\n",
        "print (\"4) This is\",type(d),\"data type\")\n",
        "\n",
        "# Boolean\n",
        "e = True or False\n",
        "print (\"5) True or False is\",type(e),\"data type\")\n",
        "\n",
        "# Set\n",
        "f = {\"LetsUpgrade\", \"in\", \"AI & ML\"}\n",
        "print (\"6) This is\",type(f),\"data type\")\n",
        "\n",
        "# Strings\n",
        "g = \"Akhil\"\n",
        "print (\"7) Akhil is\",type(g),\"data type\")\n",
        "\n",
        "# List\n",
        "h = [\"LetsUpgrade\", \"in\", \"AI & ML\"]\n",
        "print (\"8) This is\",type(h),\"data type\")\n",
        "\n",
        "# Tuple\n",
        "i = (\"LetsUpgrade\", \"in\", \"AI & ML\")\n",
        "print (\"9) This is\",type(i),\"data type\")"
      ],
      "execution_count": 46,
      "outputs": [
        {
          "output_type": "stream",
          "text": [
            "1) 9369 is <class 'int'> data type\n",
            "2) 9 + 6j is <class 'complex'> data type\n",
            "3) 936.96 is <class 'float'> data type\n",
            "4) This is <class 'dict'> data type\n",
            "5) True or False is <class 'bool'> data type\n",
            "6) This is <class 'set'> data type\n",
            "7) Akhil is <class 'str'> data type\n",
            "8) This is <class 'list'> data type\n",
            "9) This is <class 'tuple'> data type\n"
          ],
          "name": "stdout"
        }
      ]
    },
    {
      "cell_type": "markdown",
      "metadata": {
        "id": "BFDvetXweFjg",
        "colab_type": "text"
      },
      "source": [
        "### **Note:-**\n",
        "In **Q6.** I was unable to write to input in Dictionary, Set, List, Tuple in the place of this (as shown in output), like done in rest of the data types. please guide"
      ]
    },
    {
      "cell_type": "code",
      "metadata": {
        "id": "fm_upJLWXRDG",
        "colab_type": "code",
        "colab": {}
      },
      "source": [
        ""
      ],
      "execution_count": null,
      "outputs": []
    }
  ]
}